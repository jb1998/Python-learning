{
 "cells": [
  {
   "cell_type": "code",
   "execution_count": 50,
   "metadata": {},
   "outputs": [],
   "source": [
    "import numpy as np\n",
    "from sklearn import datasets\n",
    "import pandas as pd\n",
    "iris = datasets.load_iris()\n",
    "df=pd.DataFrame(iris.data)\n",
    "df.columns = iris.feature_names\n",
    "def test(xtrain,ytrain):\n",
    "#     yi=0\n",
    "#     xi=0\n",
    "#     xixi=0\n",
    "#     xiyi=0\n",
    "#     for i in range(len(ytrain)):\n",
    "# #         print(xtrain)\n",
    "#         yi+=ytrain[i]\n",
    "#         xi+=xtrain[i]\n",
    "#         xiyi+=(xtrain[i]*ytrain[i])\n",
    "#         xixi+=(xtrain[i]**2)\n",
    "#     m=(yi+xiyi)/(xixi+xi)\n",
    "#     b=m*xi-yi\n",
    "\n",
    "    m=((np.mean(xtrain)*np.mean(ytrain))-(np.mean(xtrain*ytrain)))/((np.mean(xtrain)**2)-(np.mean(xtrain**2)))\n",
    "    b=(np.mean(ytrain)) - (m*np.mean(xtrain))\n",
    "    return m, b\n",
    "\n",
    "def predict(xtest,m,b):\n",
    "   \n",
    "    arr=[]\n",
    "    for i in range(len(xtest)):\n",
    "        yy=m*xtest[i]+b\n",
    "        arr.append(yy)\n",
    "    return arr\n",
    "#     for i in range(len(arr)):\n",
    "#         print(arr[i])\n",
    "        \n",
    "def error(exp,actual):\n",
    "    return (abs((np.mean(exp)-np.mean(actual)))/np.mean(actual))\n",
    "\n",
    "from sklearn import cross_validation as cv\n",
    "X_train, X_test, Y_train, Y_test=cv.train_test_split(df['petal width (cm)'],iris.target,test_size=0.2)\n",
    "m, b = test(np.array(X_train),np.array(Y_train))\n",
    "arr=predict(np.array(X_test),m,b)\n"
   ]
  },
  {
   "cell_type": "code",
   "execution_count": 51,
   "metadata": {
    "collapsed": true
   },
   "outputs": [],
   "source": [
    "import matplotlib.pyplot as plt"
   ]
  },
  {
   "cell_type": "code",
   "execution_count": 52,
   "metadata": {},
   "outputs": [
    {
     "name": "stdout",
     "output_type": "stream",
     "text": [
      "96.9372762329\n"
     ]
    },
    {
     "data": {
      "image/png": "[encoded data removed]",
      "text/plain": [
       "<matplotlib.figure.Figure at 0xbd34e1a940>"
      ]
     },
     "metadata": {},
     "output_type": "display_data"
    }
   ],
   "source": [
    "\n",
    "plt.plot(np.array(X_test),arr)\n",
    "plt.scatter(np.array(X_test),Y_test)\n",
    "print(100-(error(arr,np.array(Y_test))*100))\n",
    "plt.show()\n"
   ]
  },
  {
   "cell_type": "code",
   "execution_count": null,
   "metadata": {},
   "outputs": [],
   "source": []
  },
  {
   "cell_type": "code",
   "execution_count": null,
   "metadata": {
    "collapsed": true
   },
   "outputs": [],
   "source": []
  }
 ],
 "metadata": {
  "kernelspec": {
   "display_name": "Python 3",
   "language": "python",
   "name": "python3"
  },
  "language_info": {
   "codemirror_mode": {
    "name": "ipython",
    "version": 3
   },
   "file_extension": ".py",
   "mimetype": "text/x-python",
   "name": "python",
   "nbconvert_exporter": "python",
   "pygments_lexer": "ipython3",
   "version": "3.6.3"
  }
 },
 "nbformat": 4,
 "nbformat_minor": 2
}
